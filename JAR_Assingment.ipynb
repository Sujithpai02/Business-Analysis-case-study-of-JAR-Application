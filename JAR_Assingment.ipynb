{
 "cells": [
  {
   "cell_type": "code",
   "execution_count": 1,
   "id": "4bfd72cc-2b52-4b3f-90e6-49ce24b36f82",
   "metadata": {},
   "outputs": [],
   "source": [
    "import pandas as pd"
   ]
  },
  {
   "cell_type": "code",
   "execution_count": 5,
   "id": "a948e3e7-4941-4061-8358-10de3fecc240",
   "metadata": {},
   "outputs": [],
   "source": [
    "orders = pd.read_csv(\"51F19A68.csv\")\n",
    "order_details = pd.read_csv(\"60E2FB99.csv\")\n",
    "sales_targets = pd.read_csv(\"411606BA.csv\")"
   ]
  },
  {
   "cell_type": "code",
   "execution_count": 7,
   "id": "115759a6-9033-4b83-980a-90c9445281f5",
   "metadata": {},
   "outputs": [],
   "source": [
    "#PART1"
   ]
  },
  {
   "cell_type": "code",
   "execution_count": 19,
   "id": "bf1160ec-af1a-427a-8880-fda5256f721c",
   "metadata": {},
   "outputs": [
    {
     "name": "stdout",
     "output_type": "stream",
     "text": [
      "=== Part 1: Sales and Profitability Analysis ===\n",
      "\n",
      "Category-wise Summary:\n",
      "      Category  Total Sales  Avg Profit per Order  Profit Margin (%)\n",
      "0     Clothing     139054.0             11.762908           8.027817\n",
      "1  Electronics     165267.0             34.071429           6.349725\n",
      "2    Furniture     127181.0              9.456790           1.806874\n",
      "\n",
      "Top-Performing Category:\n",
      "   Category  Total Sales  Avg Profit per Order  Profit Margin (%)\n",
      "0  Clothing     139054.0             11.762908           8.027817\n",
      "\n",
      "Underperforming Category:\n",
      "    Category  Total Sales  Avg Profit per Order  Profit Margin (%)\n",
      "2  Furniture     127181.0               9.45679           1.806874\n"
     ]
    }
   ],
   "source": [
    "merged = pd.merge(order_details, orders, on=\"Order ID\")\n",
    "total_sales = merged.groupby(\"Category\")[\"Amount\"].sum().reset_index(name=\"Total Sales\")\n",
    "avg_profit = merged.groupby(\"Category\")[\"Profit\"].mean().reset_index(name=\"Avg Profit per Order\")\n",
    "\n",
    "total_profit = merged.groupby(\"Category\")[\"Profit\"].sum()\n",
    "total_amount = merged.groupby(\"Category\")[\"Amount\"].sum()\n",
    "\n",
    "profit_margin = (total_profit / total_amount * 100).reset_index(name=\"Profit Margin (%)\")\n",
    "\n",
    "category_summary = total_sales.merge(avg_profit, on=\"Category\").merge(profit_margin, on=\"Category\")\n",
    "\n",
    "print(\"=== Part 1: Sales and Profitability Analysis ===\")\n",
    "print(\"\\nCategory-wise Summary:\")\n",
    "print(category_summary)\n",
    "\n",
    "best_category = category_summary.sort_values(by=\"Profit Margin (%)\", ascending=False).head(1)\n",
    "worst_category = category_summary.sort_values(by=\"Profit Margin (%)\").head(1)\n",
    "\n",
    "print(\"\\nTop-Performing Category:\")\n",
    "print(best_category)\n",
    "\n",
    "print(\"\\nUnderperforming Category:\")\n",
    "print(worst_category)"
   ]
  },
  {
   "cell_type": "code",
   "execution_count": null,
   "id": "47cba9d8-f494-45ca-b518-caab7979ecfd",
   "metadata": {},
   "outputs": [],
   "source": []
  },
  {
   "cell_type": "code",
   "execution_count": 21,
   "id": "2653dc63-a825-456c-b793-ac96c74e35c7",
   "metadata": {},
   "outputs": [],
   "source": [
    "#Part2"
   ]
  },
  {
   "cell_type": "code",
   "execution_count": 23,
   "id": "bb3affa8-82b0-4810-a46d-0970e8c66ad1",
   "metadata": {},
   "outputs": [
    {
     "name": "stdout",
     "output_type": "stream",
     "text": [
      "\n",
      "=== Part 2: Target Achievement Analysis ===\n",
      "\n",
      "Furniture Category Monthly Targets with MoM Changes:\n",
      "   Month of Order Date   Category   Target  MoM Change (%)\n",
      "0               Apr-18  Furniture  10400.0             NaN\n",
      "1               May-18  Furniture  10500.0        0.961538\n",
      "2               Jun-18  Furniture  10600.0        0.952381\n",
      "3               Jul-18  Furniture  10800.0        1.886792\n",
      "4               Aug-18  Furniture  10900.0        0.925926\n",
      "5               Sep-18  Furniture  11000.0        0.917431\n",
      "6               Oct-18  Furniture  11100.0        0.909091\n",
      "7               Nov-18  Furniture  11300.0        1.801802\n",
      "8               Dec-18  Furniture  11400.0        0.884956\n",
      "9               Jan-19  Furniture  11500.0        0.877193\n",
      "10              Feb-19  Furniture  11600.0        0.869565\n",
      "11              Mar-19  Furniture  11800.0        1.724138\n",
      "\n",
      "Months with Significant Target Changes (>|1%|):\n",
      "   Month of Order Date   Category   Target  MoM Change (%)\n",
      "3               Jul-18  Furniture  10800.0        1.886792\n",
      "7               Nov-18  Furniture  11300.0        1.801802\n",
      "11              Mar-19  Furniture  11800.0        1.724138\n"
     ]
    }
   ],
   "source": [
    "furniture_targets = sales_targets[sales_targets[\"Category\"] == \"Furniture\"].copy()\n",
    "\n",
    "furniture_targets[\"MoM Change (%)\"] = furniture_targets[\"Target\"].pct_change() * 100\n",
    "\n",
    "print(\"\\n=== Part 2: Target Achievement Analysis ===\")\n",
    "print(\"\\nFurniture Category Monthly Targets with MoM Changes:\")\n",
    "print(furniture_targets)\n",
    "\n",
    "significant_changes = furniture_targets[abs(furniture_targets[\"MoM Change (%)\"]) > 1]\n",
    "print(\"\\nMonths with Significant Target Changes (>|1%|):\")\n",
    "print(significant_changes)"
   ]
  },
  {
   "cell_type": "code",
   "execution_count": 25,
   "id": "43cfc6f9-b5b2-4ef1-abbc-443f16cbf2e6",
   "metadata": {},
   "outputs": [],
   "source": [
    "#PART3"
   ]
  },
  {
   "cell_type": "code",
   "execution_count": 65,
   "id": "200ef64a-7a5c-41df-8a9b-cce9f997111e",
   "metadata": {},
   "outputs": [
    {
     "name": "stdout",
     "output_type": "stream",
     "text": [
      "Top 5 States by Order Count:\n",
      "\n",
      "            State  Order Count\n",
      "0  Madhya Pradesh          101\n",
      "1     Maharashtra           90\n",
      "2       Rajasthan           32\n",
      "3         Gujarat           27\n",
      "4          Punjab           25\n",
      "\n",
      "Sales and Avg Profit for Top 5 States:\n",
      "\n",
      "             State  Total Sales  Avg Profit\n",
      "4          Gujarat      21058.0    5.344828\n",
      "10  Madhya Pradesh     105140.0   16.326471\n",
      "11     Maharashtra      95348.0   21.296552\n",
      "13          Punjab      16786.0  -10.150000\n",
      "14       Rajasthan      21149.0   16.986486\n"
     ]
    }
   ],
   "source": [
    "orders = pd.read_csv(\"60E2FB99.csv\")\n",
    "orders.columns = orders.columns.str.strip()\n",
    "\n",
    "top_states_counts = orders[\"State\"].value_counts().head(5).reset_index()\n",
    "top_states_counts.columns = [\"State\", \"Order Count\"]\n",
    "print(\"Top 5 States by Order Count:\\n\")\n",
    "print(top_states_counts)\n",
    "\n",
    "order_details = pd.read_csv(\"51F19A68.csv\")\n",
    "order_details.columns = order_details.columns.str.strip()\n",
    "\n",
    "merged = pd.merge(order_details, orders, on=\"Order ID\")\n",
    "\n",
    "state_summary = merged.groupby(\"State\").agg({\n",
    "    \"Amount\": \"sum\",\n",
    "    \"Profit\": \"mean\"\n",
    "}).reset_index().rename(columns={\"Amount\": \"Total Sales\", \"Profit\": \"Avg Profit\"})\n",
    "\n",
    "top_states_summary = state_summary[state_summary[\"State\"].isin(top_states_counts[\"State\"])]\n",
    "print(\"\\nSales and Avg Profit for Top 5 States:\\n\")\n",
    "print(top_states_summary)"
   ]
  },
  {
   "cell_type": "markdown",
   "id": "10793af4-8aef-4c67-a769-56aded7cf8bf",
   "metadata": {},
   "source": [
    "# Question 2 : App Exploration"
   ]
  },
  {
   "cell_type": "markdown",
   "id": "0c155c59-7c40-4ef0-91ba-b810cdda415f",
   "metadata": {},
   "source": [
    "<h3>5 Effective & User-Friendly Features of the Jar App:</h3>\n",
    "Micro-Savings with UPI Automation\n",
    "\n",
    "1.Enables users to save automatically with minimal effort by rounding off daily transactions or setting recurring deposits via UPI.\n",
    "\n",
    "2.Simple and Clean UI\n",
    "\n",
    "3.The interface is minimalistic and intuitive, making it easy even for non-tech-savvy users to use the app.\n",
    "\n",
    "4.Low Investment Barrier (₹10 minimum)\n",
    "\n",
    "5.Encourages first-time or hesitant users to start saving without fear of large commitments.\n",
    "\n",
    "6.Digital Gold Investment with Real-Time Prices\n",
    "\n",
    "7.Provides a transparent way to invest in digital gold, along with live gold price tracking.\n",
    "\n",
    "8.Gamification and Streak Rewards\n",
    "\n",
    "9.Keeps users engaged and builds a saving habit through rewards for maintaining saving streaks.\n",
    "\n",
    "<h3> 5 Suggestions for Improvement:</h3>\n",
    "Lack of Personalized Financial Guidance\n",
    "\n",
    "Add AI-powered financial tips based on user's saving patterns and goals.\n",
    "\n",
    "Limited Investment Options\n",
    "\n",
    "Introduce other low-risk investment products like Fixed Deposits, SIPs, or government bonds.\n",
    "\n",
    "No In-App Goal Tracker\n",
    "\n",
    "Add a visual savings goal tracker to motivate users toward short-term and long-term objectives.\n",
    "\n",
    "Limited Language Support\n",
    "\n",
    "Expand to regional languages to make the app more accessible across India’s diverse user base.\n",
    "\n",
    "No Dark Mode or Accessibility Settings\n",
    "\n",
    "Including accessibility features like font scaling and dark mode would improve inclusivity"
   ]
  },
  {
   "cell_type": "markdown",
   "id": "05f93364-d851-44d1-8301-69dc0c28be91",
   "metadata": {},
   "source": [
    "# Question 3 : Product Exploration"
   ]
  },
  {
   "cell_type": "markdown",
   "id": "58bb7384-ff6c-414a-8863-fe500dce3b13",
   "metadata": {},
   "source": [
    "<h3>New Business Opportunities for Jar App:</h3>\n",
    "Recurring SIPs in Mutual Funds\n",
    "\n",
    "Expand from digital gold to mutual funds or index funds to attract users wanting portfolio diversification.\n",
    "\n",
    "Micro-Insurance Products\n",
    "\n",
    "Leverage automation to offer health, life, or device insurance starting at small premiums per month.\n",
    "\n",
    "Buy Now, Save Later\n",
    "\n",
    "Let users pick products and save toward them gradually — a “goal-based savings for purchases” model.\n",
    "\n",
    "Loan Repayment Automation\n",
    "\n",
    "Use micro-savings to help users repay EMIs by rounding up and accumulating money.\n",
    "\n",
    "Teen Financial Education Accounts\n",
    "\n",
    "Offer a savings/investment product tailored for teenagers with limited control and educational modules"
   ]
  },
  {
   "cell_type": "code",
   "execution_count": null,
   "id": "4d39fcf5-91ff-4dd8-b612-5734b7f591b5",
   "metadata": {},
   "outputs": [],
   "source": []
  }
 ],
 "metadata": {
  "kernelspec": {
   "display_name": "Python 3 (ipykernel)",
   "language": "python",
   "name": "python3"
  },
  "language_info": {
   "codemirror_mode": {
    "name": "ipython",
    "version": 3
   },
   "file_extension": ".py",
   "mimetype": "text/x-python",
   "name": "python",
   "nbconvert_exporter": "python",
   "pygments_lexer": "ipython3",
   "version": "3.12.4"
  }
 },
 "nbformat": 4,
 "nbformat_minor": 5
}
